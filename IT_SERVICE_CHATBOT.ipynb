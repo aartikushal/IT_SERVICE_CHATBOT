{
  "cells": [
    {
      "cell_type": "markdown",
      "metadata": {
        "id": "view-in-github",
        "colab_type": "text"
      },
      "source": [
        "<a href=\"https://colab.research.google.com/github/aartikushal/IT_SERVICE_CHATBOT/blob/main/IT_SERVICE_CHATBOT.ipynb\" target=\"_parent\"><img src=\"https://colab.research.google.com/assets/colab-badge.svg\" alt=\"Open In Colab\"/></a>"
      ]
    },
    {
      "cell_type": "code",
      "execution_count": null,
      "metadata": {
        "colab": {
          "base_uri": "https://localhost:8080/"
        },
        "id": "Sa6GyAPbXGvl",
        "outputId": "09cda55d-6463-4865-e9ad-d32f3df9c463"
      },
      "outputs": [
        {
          "name": "stdout",
          "output_type": "stream",
          "text": [
            "Collecting openai==0.28\n",
            "  Downloading openai-0.28.0-py3-none-any.whl.metadata (13 kB)\n",
            "Requirement already satisfied: requests>=2.20 in /usr/local/lib/python3.11/dist-packages (from openai==0.28) (2.32.3)\n",
            "Requirement already satisfied: tqdm in /usr/local/lib/python3.11/dist-packages (from openai==0.28) (4.67.1)\n",
            "Requirement already satisfied: aiohttp in /usr/local/lib/python3.11/dist-packages (from openai==0.28) (3.12.14)\n",
            "Requirement already satisfied: charset-normalizer<4,>=2 in /usr/local/lib/python3.11/dist-packages (from requests>=2.20->openai==0.28) (3.4.2)\n",
            "Requirement already satisfied: idna<4,>=2.5 in /usr/local/lib/python3.11/dist-packages (from requests>=2.20->openai==0.28) (3.10)\n",
            "Requirement already satisfied: urllib3<3,>=1.21.1 in /usr/local/lib/python3.11/dist-packages (from requests>=2.20->openai==0.28) (2.5.0)\n",
            "Requirement already satisfied: certifi>=2017.4.17 in /usr/local/lib/python3.11/dist-packages (from requests>=2.20->openai==0.28) (2025.7.14)\n",
            "Requirement already satisfied: aiohappyeyeballs>=2.5.0 in /usr/local/lib/python3.11/dist-packages (from aiohttp->openai==0.28) (2.6.1)\n",
            "Requirement already satisfied: aiosignal>=1.4.0 in /usr/local/lib/python3.11/dist-packages (from aiohttp->openai==0.28) (1.4.0)\n",
            "Requirement already satisfied: attrs>=17.3.0 in /usr/local/lib/python3.11/dist-packages (from aiohttp->openai==0.28) (25.3.0)\n",
            "Requirement already satisfied: frozenlist>=1.1.1 in /usr/local/lib/python3.11/dist-packages (from aiohttp->openai==0.28) (1.7.0)\n",
            "Requirement already satisfied: multidict<7.0,>=4.5 in /usr/local/lib/python3.11/dist-packages (from aiohttp->openai==0.28) (6.6.3)\n",
            "Requirement already satisfied: propcache>=0.2.0 in /usr/local/lib/python3.11/dist-packages (from aiohttp->openai==0.28) (0.3.2)\n",
            "Requirement already satisfied: yarl<2.0,>=1.17.0 in /usr/local/lib/python3.11/dist-packages (from aiohttp->openai==0.28) (1.20.1)\n",
            "Requirement already satisfied: typing-extensions>=4.2 in /usr/local/lib/python3.11/dist-packages (from aiosignal>=1.4.0->aiohttp->openai==0.28) (4.14.1)\n",
            "Downloading openai-0.28.0-py3-none-any.whl (76 kB)\n",
            "\u001b[2K   \u001b[90m━━━━━━━━━━━━━━━━━━━━━━━━━━━━━━━━━━━━━━━━\u001b[0m \u001b[32m76.5/76.5 kB\u001b[0m \u001b[31m1.9 MB/s\u001b[0m eta \u001b[36m0:00:00\u001b[0m\n",
            "\u001b[?25hInstalling collected packages: openai\n",
            "  Attempting uninstall: openai\n",
            "    Found existing installation: openai 1.97.1\n",
            "    Uninstalling openai-1.97.1:\n",
            "      Successfully uninstalled openai-1.97.1\n",
            "Successfully installed openai-0.28.0\n"
          ]
        }
      ],
      "source": [
        "!pip install openai==0.28"
      ]
    },
    {
      "cell_type": "code",
      "execution_count": 3,
      "metadata": {
        "colab": {
          "base_uri": "https://localhost:8080/"
        },
        "id": "sXB9C3cCeUvm",
        "outputId": "e5dd0fa4-6dd7-4053-869e-7c762677e76e"
      },
      "outputs": [
        {
          "output_type": "stream",
          "name": "stdout",
          "text": [
            "🤖 IT Service Chatbot: Hello! Type 'bye' to exit.\n",
            "You: i am not able to login\n",
            "Chatbot: I'm here to help you with that. Let's try resetting your password first. Please follow these steps:\n",
            "\n",
            "1. Go to the login page.\n",
            "2. Look for the \"Forgot Password\" or \"Reset Password\" link.\n",
            "3. Enter your username or email address associated with your account.\n",
            "4. Follow the instructions sent to your email to reset your password.\n",
            "5. Try logging in again with your new password.\n",
            "\n",
            "If you're still unable to log in after resetting your password, please contact IT support for further assistance.\n",
            "You: bye'\n",
            "Chatbot: Goodbye! If you need any further assistance in the future, feel free to reach out. Have a great day!\n",
            "You: bye\n",
            "Chatbot: Thank you for contacting IT support. Goodbye!\n"
          ]
        }
      ],
      "source": [
        "import openai\n",
        "\n",
        "openai.api_key = ''#paste your key here\n",
        "\n",
        "# Initialize client (make sure you set OPENAI_API_KEY in your environment)\n",
        "#client = openai()\n",
        "\n",
        "def it_service_chatbot():\n",
        "    print(\"🤖 IT Service Chatbot: Hello! Type 'bye' to exit.\")\n",
        "\n",
        "    conversation_history = [\n",
        "        {\"role\": \"system\", \"content\":\n",
        "         \"You are an IT Service chatbot for a company. \"\n",
        "         \"You help employees with IT-related issues like password reset, network troubleshooting, \"\n",
        "         \"software installation, and checking IT ticket status. \"\n",
        "         \"You provide step-by-step instructions and recommend contacting IT support for critical issues. \"\n",
        "         \"Do not provide unrelated or unsafe responses.\"}\n",
        "    ]\n",
        "\n",
        "    while True:\n",
        "        user_input = input(\"You: \")\n",
        "        if user_input.lower() in [\"bye\", \"exit\", \"quit\"]:\n",
        "            print(\"Chatbot: Thank you for contacting IT support. Goodbye!\")\n",
        "            break\n",
        "\n",
        "        # Add user message\n",
        "        conversation_history.append({\"role\": \"user\", \"content\": user_input})\n",
        "\n",
        "        # Get response from OpenAI\n",
        "        response = openai.ChatCompletion.create(\n",
        "            model=\"gpt-3.5-turbo\",\n",
        "            messages=conversation_history,\n",
        "            temperature=0.6,\n",
        "            max_tokens=200\n",
        "        )\n",
        "\n",
        "        bot_reply = response.choices[0].message.content\n",
        "        print(\"Chatbot:\", bot_reply)\n",
        "\n",
        "        # Add bot reply to conversation history\n",
        "        conversation_history.append({\"role\": \"assistant\", \"content\": bot_reply})\n",
        "\n",
        "# Run chatbot\n",
        "it_service_chatbot()"
      ]
    },
    {
      "cell_type": "code",
      "source": [
        "import pickle\n",
        "# Save the model to a file using pickle\n",
        "with open('it_service_chatbot.pkl', 'wb') as file:\n",
        "    pickle.dump(it_service_chatbot, file)\n",
        "\n",
        "print(\"Model saved successfully!\")"
      ],
      "metadata": {
        "colab": {
          "base_uri": "https://localhost:8080/"
        },
        "id": "C2XfJhpK6gKh",
        "outputId": "8aea4672-d0dd-4416-c850-456594479371"
      },
      "execution_count": 5,
      "outputs": [
        {
          "output_type": "stream",
          "name": "stdout",
          "text": [
            "Model saved successfully!\n"
          ]
        }
      ]
    }
  ],
  "metadata": {
    "colab": {
      "provenance": [],
      "authorship_tag": "ABX9TyNUBwXnDvUE0eaSTRjizR3h",
      "include_colab_link": true
    },
    "kernelspec": {
      "display_name": "Python 3",
      "name": "python3"
    },
    "language_info": {
      "name": "python"
    }
  },
  "nbformat": 4,
  "nbformat_minor": 0
}